{
  "nbformat": 4,
  "nbformat_minor": 0,
  "metadata": {
    "colab": {
      "name": "CureMD Assessment.ipynb",
      "provenance": [],
      "collapsed_sections": []
    },
    "kernelspec": {
      "name": "python3",
      "display_name": "Python 3"
    },
    "language_info": {
      "name": "python"
    },
    "accelerator": "GPU"
  },
  "cells": [
    {
      "cell_type": "code",
      "metadata": {
        "id": "j88eklzsG9AI"
      },
      "source": [
        "#import required packages\n",
        "import pandas as pd\n",
        "import numpy as np\n",
        "import datetime\n",
        "from time import strftime\n",
        "import tensorflow as tf\n",
        "from sklearn.model_selection import train_test_split\n",
        "from sklearn.model_selection import GridSearchCV\n",
        "from sklearn.preprocessing import LabelEncoder\n",
        "from itertools import chain, combinations\n",
        "from sklearn.tree import DecisionTreeClassifier\n",
        "import matplotlib.pyplot as plt\n",
        "from itertools import chain, combinations\n",
        "%matplotlib inline"
      ],
      "execution_count": 1,
      "outputs": []
    },
    {
      "cell_type": "code",
      "metadata": {
        "id": "pz3rYIPyHXy0",
        "colab": {
          "base_uri": "https://localhost:8080/"
        },
        "outputId": "7b023846-0bee-460f-b8ae-7f55b3048986"
      },
      "source": [
        "#mount Google Drive to access dataset\n",
        "from google.colab import drive\n",
        "drive.mount('/content/drive')"
      ],
      "execution_count": 2,
      "outputs": [
        {
          "output_type": "stream",
          "text": [
            "Drive already mounted at /content/drive; to attempt to forcibly remount, call drive.mount(\"/content/drive\", force_remount=True).\n"
          ],
          "name": "stdout"
        }
      ]
    },
    {
      "cell_type": "code",
      "metadata": {
        "id": "p6rEZ6UiHU9T"
      },
      "source": [
        "#read the csv file, make sure to change name if the dataset filename is different\n",
        "df = pd.read_csv('/content/drive/MyDrive/dataset.csv')"
      ],
      "execution_count": 3,
      "outputs": []
    },
    {
      "cell_type": "code",
      "metadata": {
        "id": "dsyPmsmaZje_"
      },
      "source": [
        "#corrections in the dataset\n",
        "#changing datatype\n",
        "df['PatientId'] = df['PatientId'].astype('int64')\n",
        "df['ScheduledDay'] = pd.to_datetime(df['ScheduledDay']).dt.date.astype('datetime64[ns]')\n",
        "df['Alcoholism'] = df['Alcoholism'].astype('object')\n",
        "df['AppointmentDay'] = pd.to_datetime(df['AppointmentDay']).dt.date.astype('datetime64[ns]')\n",
        "df['SMS_Received'] = df['SMS_Received'].astype('object')\n",
        "#renaming wrongly spelled words\n",
        "df = df.rename(columns={'Hipertension': 'Hypertension', 'Handcap': 'Handicap', 'SMS_received': 'SMS_Received', 'No-show': 'No_Show'})\n",
        "#removing unrelated details\n",
        "df.drop(['PatientId', 'AppointmentID'], axis=1, inplace=True)"
      ],
      "execution_count": 4,
      "outputs": []
    },
    {
      "cell_type": "code",
      "metadata": {
        "id": "TIfEl6vvZjvI"
      },
      "source": [
        "#changing datatype to object\n",
        "df['Scholarship'] = df['Scholarship'].astype('object')\n",
        "df['Hypertension'] = df['Hypertension'].astype('object')\n",
        "df['Diabetes'] = df['Diabetes'].astype('object')\n",
        "df['Handicap'] = df['Handicap'].astype('object')\n",
        "#making sure that no unreasonable data is present\n",
        "df = df[df.Age >= 0]"
      ],
      "execution_count": 5,
      "outputs": []
    },
    {
      "cell_type": "code",
      "metadata": {
        "id": "y7tHzDutZj2s",
        "colab": {
          "base_uri": "https://localhost:8080/",
          "height": 402
        },
        "outputId": "fcd274f9-7db2-4864-fc9a-eb980631c49b"
      },
      "source": [
        "#displaying dataframe\n",
        "df"
      ],
      "execution_count": 6,
      "outputs": [
        {
          "output_type": "execute_result",
          "data": {
            "text/html": [
              "<div>\n",
              "<style scoped>\n",
              "    .dataframe tbody tr th:only-of-type {\n",
              "        vertical-align: middle;\n",
              "    }\n",
              "\n",
              "    .dataframe tbody tr th {\n",
              "        vertical-align: top;\n",
              "    }\n",
              "\n",
              "    .dataframe thead th {\n",
              "        text-align: right;\n",
              "    }\n",
              "</style>\n",
              "<table border=\"1\" class=\"dataframe\">\n",
              "  <thead>\n",
              "    <tr style=\"text-align: right;\">\n",
              "      <th></th>\n",
              "      <th>Gender</th>\n",
              "      <th>ScheduledDay</th>\n",
              "      <th>AppointmentDay</th>\n",
              "      <th>Age</th>\n",
              "      <th>Neighbourhood</th>\n",
              "      <th>Scholarship</th>\n",
              "      <th>Hypertension</th>\n",
              "      <th>Diabetes</th>\n",
              "      <th>Alcoholism</th>\n",
              "      <th>Handicap</th>\n",
              "      <th>SMS_Received</th>\n",
              "      <th>No_Show</th>\n",
              "    </tr>\n",
              "  </thead>\n",
              "  <tbody>\n",
              "    <tr>\n",
              "      <th>0</th>\n",
              "      <td>F</td>\n",
              "      <td>2016-04-29</td>\n",
              "      <td>2016-04-29</td>\n",
              "      <td>62</td>\n",
              "      <td>JARDIM DA PENHA</td>\n",
              "      <td>0</td>\n",
              "      <td>1</td>\n",
              "      <td>0</td>\n",
              "      <td>0</td>\n",
              "      <td>0</td>\n",
              "      <td>0</td>\n",
              "      <td>No</td>\n",
              "    </tr>\n",
              "    <tr>\n",
              "      <th>1</th>\n",
              "      <td>M</td>\n",
              "      <td>2016-04-29</td>\n",
              "      <td>2016-04-29</td>\n",
              "      <td>56</td>\n",
              "      <td>JARDIM DA PENHA</td>\n",
              "      <td>0</td>\n",
              "      <td>0</td>\n",
              "      <td>0</td>\n",
              "      <td>0</td>\n",
              "      <td>0</td>\n",
              "      <td>0</td>\n",
              "      <td>No</td>\n",
              "    </tr>\n",
              "    <tr>\n",
              "      <th>2</th>\n",
              "      <td>F</td>\n",
              "      <td>2016-04-29</td>\n",
              "      <td>2016-04-29</td>\n",
              "      <td>62</td>\n",
              "      <td>MATA DA PRAIA</td>\n",
              "      <td>0</td>\n",
              "      <td>0</td>\n",
              "      <td>0</td>\n",
              "      <td>0</td>\n",
              "      <td>0</td>\n",
              "      <td>0</td>\n",
              "      <td>No</td>\n",
              "    </tr>\n",
              "    <tr>\n",
              "      <th>3</th>\n",
              "      <td>F</td>\n",
              "      <td>2016-04-29</td>\n",
              "      <td>2016-04-29</td>\n",
              "      <td>8</td>\n",
              "      <td>PONTAL DE CAMBURI</td>\n",
              "      <td>0</td>\n",
              "      <td>0</td>\n",
              "      <td>0</td>\n",
              "      <td>0</td>\n",
              "      <td>0</td>\n",
              "      <td>0</td>\n",
              "      <td>No</td>\n",
              "    </tr>\n",
              "    <tr>\n",
              "      <th>4</th>\n",
              "      <td>F</td>\n",
              "      <td>2016-04-29</td>\n",
              "      <td>2016-04-29</td>\n",
              "      <td>56</td>\n",
              "      <td>JARDIM DA PENHA</td>\n",
              "      <td>0</td>\n",
              "      <td>1</td>\n",
              "      <td>1</td>\n",
              "      <td>0</td>\n",
              "      <td>0</td>\n",
              "      <td>0</td>\n",
              "      <td>No</td>\n",
              "    </tr>\n",
              "    <tr>\n",
              "      <th>...</th>\n",
              "      <td>...</td>\n",
              "      <td>...</td>\n",
              "      <td>...</td>\n",
              "      <td>...</td>\n",
              "      <td>...</td>\n",
              "      <td>...</td>\n",
              "      <td>...</td>\n",
              "      <td>...</td>\n",
              "      <td>...</td>\n",
              "      <td>...</td>\n",
              "      <td>...</td>\n",
              "      <td>...</td>\n",
              "    </tr>\n",
              "    <tr>\n",
              "      <th>110522</th>\n",
              "      <td>F</td>\n",
              "      <td>2016-05-03</td>\n",
              "      <td>2016-06-07</td>\n",
              "      <td>56</td>\n",
              "      <td>MARIA ORTIZ</td>\n",
              "      <td>0</td>\n",
              "      <td>0</td>\n",
              "      <td>0</td>\n",
              "      <td>0</td>\n",
              "      <td>0</td>\n",
              "      <td>1</td>\n",
              "      <td>No</td>\n",
              "    </tr>\n",
              "    <tr>\n",
              "      <th>110523</th>\n",
              "      <td>F</td>\n",
              "      <td>2016-05-03</td>\n",
              "      <td>2016-06-07</td>\n",
              "      <td>51</td>\n",
              "      <td>MARIA ORTIZ</td>\n",
              "      <td>0</td>\n",
              "      <td>0</td>\n",
              "      <td>0</td>\n",
              "      <td>0</td>\n",
              "      <td>0</td>\n",
              "      <td>1</td>\n",
              "      <td>No</td>\n",
              "    </tr>\n",
              "    <tr>\n",
              "      <th>110524</th>\n",
              "      <td>F</td>\n",
              "      <td>2016-04-27</td>\n",
              "      <td>2016-06-07</td>\n",
              "      <td>21</td>\n",
              "      <td>MARIA ORTIZ</td>\n",
              "      <td>0</td>\n",
              "      <td>0</td>\n",
              "      <td>0</td>\n",
              "      <td>0</td>\n",
              "      <td>0</td>\n",
              "      <td>1</td>\n",
              "      <td>No</td>\n",
              "    </tr>\n",
              "    <tr>\n",
              "      <th>110525</th>\n",
              "      <td>F</td>\n",
              "      <td>2016-04-27</td>\n",
              "      <td>2016-06-07</td>\n",
              "      <td>38</td>\n",
              "      <td>MARIA ORTIZ</td>\n",
              "      <td>0</td>\n",
              "      <td>0</td>\n",
              "      <td>0</td>\n",
              "      <td>0</td>\n",
              "      <td>0</td>\n",
              "      <td>1</td>\n",
              "      <td>No</td>\n",
              "    </tr>\n",
              "    <tr>\n",
              "      <th>110526</th>\n",
              "      <td>F</td>\n",
              "      <td>2016-04-27</td>\n",
              "      <td>2016-06-07</td>\n",
              "      <td>54</td>\n",
              "      <td>MARIA ORTIZ</td>\n",
              "      <td>0</td>\n",
              "      <td>0</td>\n",
              "      <td>0</td>\n",
              "      <td>0</td>\n",
              "      <td>0</td>\n",
              "      <td>1</td>\n",
              "      <td>No</td>\n",
              "    </tr>\n",
              "  </tbody>\n",
              "</table>\n",
              "<p>110526 rows × 12 columns</p>\n",
              "</div>"
            ],
            "text/plain": [
              "       Gender ScheduledDay AppointmentDay  ...  Handicap SMS_Received No_Show\n",
              "0           F   2016-04-29     2016-04-29  ...         0            0      No\n",
              "1           M   2016-04-29     2016-04-29  ...         0            0      No\n",
              "2           F   2016-04-29     2016-04-29  ...         0            0      No\n",
              "3           F   2016-04-29     2016-04-29  ...         0            0      No\n",
              "4           F   2016-04-29     2016-04-29  ...         0            0      No\n",
              "...       ...          ...            ...  ...       ...          ...     ...\n",
              "110522      F   2016-05-03     2016-06-07  ...         0            1      No\n",
              "110523      F   2016-05-03     2016-06-07  ...         0            1      No\n",
              "110524      F   2016-04-27     2016-06-07  ...         0            1      No\n",
              "110525      F   2016-04-27     2016-06-07  ...         0            1      No\n",
              "110526      F   2016-04-27     2016-06-07  ...         0            1      No\n",
              "\n",
              "[110526 rows x 12 columns]"
            ]
          },
          "metadata": {
            "tags": []
          },
          "execution_count": 6
        }
      ]
    },
    {
      "cell_type": "code",
      "metadata": {
        "id": "VCrqz4cYZj-n"
      },
      "source": [
        "# Encoding labels with label encoder to make them from 0 to m\n",
        "le = LabelEncoder()\n",
        "df['Gender'] = le.fit_transform(df['Gender'])\n",
        "le = LabelEncoder()\n",
        "df['Neighbourhood'] = le.fit_transform(df['Neighbourhood'])\n",
        "le = LabelEncoder()\n",
        "df['No_Show'] = le.fit_transform(df['No_Show'])"
      ],
      "execution_count": 7,
      "outputs": []
    },
    {
      "cell_type": "code",
      "metadata": {
        "id": "C9yFN8qeHVa7"
      },
      "source": [
        "#drop output and unrelated information from features\n",
        "X = df.drop(['No_Show','ScheduledDay','AppointmentDay'], axis=1)\n",
        "#separate the label\n",
        "y = df['No_Show']"
      ],
      "execution_count": 8,
      "outputs": []
    },
    {
      "cell_type": "code",
      "metadata": {
        "id": "zx1leTlcHVgP"
      },
      "source": [
        "#splitting data into train and test sets\n",
        "X_train, X_test, y_train, y_test = train_test_split(X, y, test_size=0.3, random_state=0)"
      ],
      "execution_count": 9,
      "outputs": []
    },
    {
      "cell_type": "code",
      "metadata": {
        "colab": {
          "base_uri": "https://localhost:8080/"
        },
        "id": "wWYXazI2afW9",
        "outputId": "3a5530df-987d-409d-f87d-12540634ab45"
      },
      "source": [
        "#initializing model\n",
        "model = DecisionTreeClassifier(random_state=0)\n",
        "#fitting model on the dataset\n",
        "model.fit(X_train, y_train)"
      ],
      "execution_count": 10,
      "outputs": [
        {
          "output_type": "execute_result",
          "data": {
            "text/plain": [
              "DecisionTreeClassifier(ccp_alpha=0.0, class_weight=None, criterion='gini',\n",
              "                       max_depth=None, max_features=None, max_leaf_nodes=None,\n",
              "                       min_impurity_decrease=0.0, min_impurity_split=None,\n",
              "                       min_samples_leaf=1, min_samples_split=2,\n",
              "                       min_weight_fraction_leaf=0.0, presort='deprecated',\n",
              "                       random_state=0, splitter='best')"
            ]
          },
          "metadata": {
            "tags": []
          },
          "execution_count": 10
        }
      ]
    },
    {
      "cell_type": "code",
      "metadata": {
        "colab": {
          "base_uri": "https://localhost:8080/"
        },
        "id": "TktcuPg-afZb",
        "outputId": "8ea08017-3c74-4329-d482-2d4889aa8f07"
      },
      "source": [
        "#finding contribution of each feature \n",
        "print(\"Feature Contribution (%):\")\n",
        "a  = []\n",
        "lb=[]\n",
        "for name, importance in zip(X.columns, np.sort(model.feature_importances_)[::-1]):\n",
        "    print(\"{}: {:.2f}\".format(name, importance*100))\n",
        "    a.append(importance)\n",
        "    lb.append(name)"
      ],
      "execution_count": 60,
      "outputs": [
        {
          "output_type": "stream",
          "text": [
            "Feature Contribution (%):\n",
            "Gender: 37.37\n",
            "Age: 36.86\n",
            "Neighbourhood: 6.12\n",
            "Scholarship: 4.98\n",
            "Hypertension: 4.11\n",
            "Diabetes: 3.65\n",
            "Alcoholism: 3.38\n",
            "Handicap: 1.87\n",
            "SMS_Received: 1.65\n"
          ],
          "name": "stdout"
        }
      ]
    },
    {
      "cell_type": "code",
      "metadata": {
        "colab": {
          "base_uri": "https://localhost:8080/",
          "height": 248
        },
        "id": "NxyOPH9wAOnL",
        "outputId": "4f8a6dd6-2c8e-4ade-d8bb-e2c50eaf3f8f"
      },
      "source": [
        "#visualizing feature contribution\n",
        "plt.pie(a, labels = lb,autopct='%1.1f%%')\n",
        "plt.show() "
      ],
      "execution_count": 12,
      "outputs": [
        {
          "output_type": "display_data",
          "data": {
            "image/png": "[encoded data removed]",
            "text/plain": [
              "<Figure size 432x288 with 1 Axes>"
            ]
          },
          "metadata": {
            "tags": []
          }
        }
      ]
    },
    {
      "cell_type": "code",
      "metadata": {
        "colab": {
          "base_uri": "https://localhost:8080/"
        },
        "id": "k1N6Rmyfafbp",
        "outputId": "6805b09e-872c-478d-cdf2-20e567300fb5"
      },
      "source": [
        "#testing model on test sets\n",
        "model.score(X_test, y_test)"
      ],
      "execution_count": 13,
      "outputs": [
        {
          "output_type": "execute_result",
          "data": {
            "text/plain": [
              "0.7593354170093766"
            ]
          },
          "metadata": {
            "tags": []
          },
          "execution_count": 13
        }
      ]
    },
    {
      "cell_type": "code",
      "metadata": {
        "id": "RM7Daig8v-x4"
      },
      "source": [
        "#changing order to get labels at the end\n",
        "df = df[['Gender','Age','Neighbourhood','Scholarship','Hypertension','Diabetes','Alcoholism','Handicap','SMS_Received','No_Show']]"
      ],
      "execution_count": 14,
      "outputs": []
    },
    {
      "cell_type": "code",
      "metadata": {
        "id": "4cy1rVoTv-9_"
      },
      "source": [
        "#dropping furthur features who have less contribution and due to low computational power\n",
        "df = df.drop(['Handicap', 'SMS_Received', 'Alcoholism','Diabetes','Hypertension'], axis=1)"
      ],
      "execution_count": 15,
      "outputs": []
    },
    {
      "cell_type": "code",
      "metadata": {
        "colab": {
          "base_uri": "https://localhost:8080/",
          "height": 402
        },
        "id": "cjCu463E01mV",
        "outputId": "5dcd4e12-9b9f-48d5-a1d0-421ae7a31642"
      },
      "source": [
        "#testing on only 100 data enteries\n",
        "df = df.head(100)\n",
        "df"
      ],
      "execution_count": 16,
      "outputs": [
        {
          "output_type": "execute_result",
          "data": {
            "text/html": [
              "<div>\n",
              "<style scoped>\n",
              "    .dataframe tbody tr th:only-of-type {\n",
              "        vertical-align: middle;\n",
              "    }\n",
              "\n",
              "    .dataframe tbody tr th {\n",
              "        vertical-align: top;\n",
              "    }\n",
              "\n",
              "    .dataframe thead th {\n",
              "        text-align: right;\n",
              "    }\n",
              "</style>\n",
              "<table border=\"1\" class=\"dataframe\">\n",
              "  <thead>\n",
              "    <tr style=\"text-align: right;\">\n",
              "      <th></th>\n",
              "      <th>Gender</th>\n",
              "      <th>Age</th>\n",
              "      <th>Neighbourhood</th>\n",
              "      <th>Scholarship</th>\n",
              "      <th>No_Show</th>\n",
              "    </tr>\n",
              "  </thead>\n",
              "  <tbody>\n",
              "    <tr>\n",
              "      <th>0</th>\n",
              "      <td>0</td>\n",
              "      <td>62</td>\n",
              "      <td>39</td>\n",
              "      <td>0</td>\n",
              "      <td>0</td>\n",
              "    </tr>\n",
              "    <tr>\n",
              "      <th>1</th>\n",
              "      <td>1</td>\n",
              "      <td>56</td>\n",
              "      <td>39</td>\n",
              "      <td>0</td>\n",
              "      <td>0</td>\n",
              "    </tr>\n",
              "    <tr>\n",
              "      <th>2</th>\n",
              "      <td>0</td>\n",
              "      <td>62</td>\n",
              "      <td>45</td>\n",
              "      <td>0</td>\n",
              "      <td>0</td>\n",
              "    </tr>\n",
              "    <tr>\n",
              "      <th>3</th>\n",
              "      <td>0</td>\n",
              "      <td>8</td>\n",
              "      <td>54</td>\n",
              "      <td>0</td>\n",
              "      <td>0</td>\n",
              "    </tr>\n",
              "    <tr>\n",
              "      <th>4</th>\n",
              "      <td>0</td>\n",
              "      <td>56</td>\n",
              "      <td>39</td>\n",
              "      <td>0</td>\n",
              "      <td>0</td>\n",
              "    </tr>\n",
              "    <tr>\n",
              "      <th>...</th>\n",
              "      <td>...</td>\n",
              "      <td>...</td>\n",
              "      <td>...</td>\n",
              "      <td>...</td>\n",
              "      <td>...</td>\n",
              "    </tr>\n",
              "    <tr>\n",
              "      <th>95</th>\n",
              "      <td>1</td>\n",
              "      <td>1</td>\n",
              "      <td>8</td>\n",
              "      <td>0</td>\n",
              "      <td>0</td>\n",
              "    </tr>\n",
              "    <tr>\n",
              "      <th>96</th>\n",
              "      <td>1</td>\n",
              "      <td>3</td>\n",
              "      <td>8</td>\n",
              "      <td>0</td>\n",
              "      <td>0</td>\n",
              "    </tr>\n",
              "    <tr>\n",
              "      <th>97</th>\n",
              "      <td>0</td>\n",
              "      <td>35</td>\n",
              "      <td>8</td>\n",
              "      <td>0</td>\n",
              "      <td>0</td>\n",
              "    </tr>\n",
              "    <tr>\n",
              "      <th>98</th>\n",
              "      <td>0</td>\n",
              "      <td>51</td>\n",
              "      <td>8</td>\n",
              "      <td>0</td>\n",
              "      <td>0</td>\n",
              "    </tr>\n",
              "    <tr>\n",
              "      <th>99</th>\n",
              "      <td>0</td>\n",
              "      <td>1</td>\n",
              "      <td>8</td>\n",
              "      <td>0</td>\n",
              "      <td>0</td>\n",
              "    </tr>\n",
              "  </tbody>\n",
              "</table>\n",
              "<p>100 rows × 5 columns</p>\n",
              "</div>"
            ],
            "text/plain": [
              "    Gender  Age  Neighbourhood Scholarship  No_Show\n",
              "0        0   62             39           0        0\n",
              "1        1   56             39           0        0\n",
              "2        0   62             45           0        0\n",
              "3        0    8             54           0        0\n",
              "4        0   56             39           0        0\n",
              "..     ...  ...            ...         ...      ...\n",
              "95       1    1              8           0        0\n",
              "96       1    3              8           0        0\n",
              "97       0   35              8           0        0\n",
              "98       0   51              8           0        0\n",
              "99       0    1              8           0        0\n",
              "\n",
              "[100 rows x 5 columns]"
            ]
          },
          "metadata": {
            "tags": []
          },
          "execution_count": 16
        }
      ]
    },
    {
      "cell_type": "code",
      "metadata": {
        "id": "p8kWFJvvv_Gn"
      },
      "source": [
        "#function to find powerset of propositional variables\n",
        "def powerset(iterable):\n",
        "    ld_1 = [{k:v} for k,v in iterable.items()]\n",
        "    ld_1 = np.array(ld_1)\n",
        "    s = list(ld_1)\n",
        "    return chain.from_iterable(combinations(s, r) for r in range(len(s)+1))"
      ],
      "execution_count": 17,
      "outputs": []
    },
    {
      "cell_type": "code",
      "metadata": {
        "id": "kfdziFMlv_PC"
      },
      "source": [
        "#function to find a knowledge base from the data\n",
        "def direct_knowledge_base(df):\n",
        "    keys = []\n",
        "    count = [0]*1641\n",
        "    labels = [0]*1641\n",
        "    KB_values = [0]*1641\n",
        "    c = 0\n",
        "    for index, row in df.iterrows():\n",
        "          feat = row[0:8]\n",
        "          label = row['No_Show']\n",
        "          S = list(powerset(feat))\n",
        "          #print(len(S))\n",
        "          for key in S:\n",
        "              try:\n",
        "                i=keys.index(key)\n",
        "                count[i] = count[i]+1\n",
        "                labels[i] = labels[i]+label\n",
        "                #print(i)\n",
        "              except:\n",
        "                keys.append(key)\n",
        "                i = len(keys)-1\n",
        "                count[i] = count[i]+1\n",
        "                labels[i] = labels[i]+label\n",
        "    print('Done')\n",
        "    for m in range(0,len(keys)):\n",
        "          r = labels[m]/count[m]\n",
        "          KB_values[m]=r*100\n",
        "    data_for_knowledge_base = {'clauses' : keys , 'Probability(%)': KB_values}\n",
        "    knowledge_base = pd.DataFrame(data_for_knowledge_base)\n",
        "    return knowledge_base"
      ],
      "execution_count": 61,
      "outputs": []
    },
    {
      "cell_type": "code",
      "metadata": {
        "id": "B9pCEqXJxOcH",
        "colab": {
          "base_uri": "https://localhost:8080/"
        },
        "outputId": "a863422e-83b9-45e8-d910-312322e97b10"
      },
      "source": [
        "KB = direct_knowledge_base(df)"
      ],
      "execution_count": 62,
      "outputs": [
        {
          "output_type": "stream",
          "text": [
            "Done\n"
          ],
          "name": "stdout"
        }
      ]
    },
    {
      "cell_type": "code",
      "metadata": {
        "colab": {
          "base_uri": "https://localhost:8080/",
          "height": 402
        },
        "id": "enfArDC08Z8h",
        "outputId": "426b2366-9eb0-4562-c6dc-1d934b7ac1e0"
      },
      "source": [
        "KB"
      ],
      "execution_count": 63,
      "outputs": [
        {
          "output_type": "execute_result",
          "data": {
            "text/html": [
              "<div>\n",
              "<style scoped>\n",
              "    .dataframe tbody tr th:only-of-type {\n",
              "        vertical-align: middle;\n",
              "    }\n",
              "\n",
              "    .dataframe tbody tr th {\n",
              "        vertical-align: top;\n",
              "    }\n",
              "\n",
              "    .dataframe thead th {\n",
              "        text-align: right;\n",
              "    }\n",
              "</style>\n",
              "<table border=\"1\" class=\"dataframe\">\n",
              "  <thead>\n",
              "    <tr style=\"text-align: right;\">\n",
              "      <th></th>\n",
              "      <th>clauses</th>\n",
              "      <th>Probability(%)</th>\n",
              "    </tr>\n",
              "  </thead>\n",
              "  <tbody>\n",
              "    <tr>\n",
              "      <th>0</th>\n",
              "      <td>()</td>\n",
              "      <td>19.000000</td>\n",
              "    </tr>\n",
              "    <tr>\n",
              "      <th>1</th>\n",
              "      <td>({'Gender': 0},)</td>\n",
              "      <td>19.354839</td>\n",
              "    </tr>\n",
              "    <tr>\n",
              "      <th>2</th>\n",
              "      <td>({'Age': 62},)</td>\n",
              "      <td>0.000000</td>\n",
              "    </tr>\n",
              "    <tr>\n",
              "      <th>3</th>\n",
              "      <td>({'Neighbourhood': 39},)</td>\n",
              "      <td>0.000000</td>\n",
              "    </tr>\n",
              "    <tr>\n",
              "      <th>4</th>\n",
              "      <td>({'Scholarship': 0},)</td>\n",
              "      <td>16.853933</td>\n",
              "    </tr>\n",
              "    <tr>\n",
              "      <th>...</th>\n",
              "      <td>...</td>\n",
              "      <td>...</td>\n",
              "    </tr>\n",
              "    <tr>\n",
              "      <th>1636</th>\n",
              "      <td>({'Gender': 0}, {'Age': 51}, {'Neighbourhood':...</td>\n",
              "      <td>0.000000</td>\n",
              "    </tr>\n",
              "    <tr>\n",
              "      <th>1637</th>\n",
              "      <td>({'Gender': 0}, {'Age': 51}, {'Neighbourhood':...</td>\n",
              "      <td>0.000000</td>\n",
              "    </tr>\n",
              "    <tr>\n",
              "      <th>1638</th>\n",
              "      <td>({'Gender': 0}, {'Age': 51}, {'Scholarship': 0...</td>\n",
              "      <td>0.000000</td>\n",
              "    </tr>\n",
              "    <tr>\n",
              "      <th>1639</th>\n",
              "      <td>({'Age': 51}, {'Neighbourhood': 8}, {'Scholars...</td>\n",
              "      <td>0.000000</td>\n",
              "    </tr>\n",
              "    <tr>\n",
              "      <th>1640</th>\n",
              "      <td>({'Gender': 0}, {'Age': 51}, {'Neighbourhood':...</td>\n",
              "      <td>0.000000</td>\n",
              "    </tr>\n",
              "  </tbody>\n",
              "</table>\n",
              "<p>1641 rows × 2 columns</p>\n",
              "</div>"
            ],
            "text/plain": [
              "                                                clauses  Probability(%)\n",
              "0                                                    ()       19.000000\n",
              "1                                      ({'Gender': 0},)       19.354839\n",
              "2                                        ({'Age': 62},)        0.000000\n",
              "3                              ({'Neighbourhood': 39},)        0.000000\n",
              "4                                 ({'Scholarship': 0},)       16.853933\n",
              "...                                                 ...             ...\n",
              "1636  ({'Gender': 0}, {'Age': 51}, {'Neighbourhood':...        0.000000\n",
              "1637  ({'Gender': 0}, {'Age': 51}, {'Neighbourhood':...        0.000000\n",
              "1638  ({'Gender': 0}, {'Age': 51}, {'Scholarship': 0...        0.000000\n",
              "1639  ({'Age': 51}, {'Neighbourhood': 8}, {'Scholars...        0.000000\n",
              "1640  ({'Gender': 0}, {'Age': 51}, {'Neighbourhood':...        0.000000\n",
              "\n",
              "[1641 rows x 2 columns]"
            ]
          },
          "metadata": {
            "tags": []
          },
          "execution_count": 63
        }
      ]
    },
    {
      "cell_type": "code",
      "metadata": {
        "id": "JlSssIFtbNHr"
      },
      "source": [
        "#Saving knowledge base to excel file\n",
        "knowledge_base.to_excel('knowledge_base.xlsx')"
      ],
      "execution_count": 38,
      "outputs": []
    }
  ]
}